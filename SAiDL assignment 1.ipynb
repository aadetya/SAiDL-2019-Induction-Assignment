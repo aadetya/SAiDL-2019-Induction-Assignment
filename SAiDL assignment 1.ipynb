{
 "cells": [
  {
   "cell_type": "code",
   "execution_count": 25,
   "metadata": {},
   "outputs": [],
   "source": [
    "#importing libraries\n",
    "import numpy as np\n"
   ]
  },
  {
   "cell_type": "code",
   "execution_count": 26,
   "metadata": {},
   "outputs": [],
   "source": [
    "#32 combinations denoting all possible 2 bit 2 numbers binary addition last bit determines whether XOR or XNOR will be performed\n",
    "input_matrix=np.array([[0,0,0,0,0],[0,0,0,1,0],[0,0,1,0,0],[0,0,1,1,0],[0,1,0,0,0],[1,0,0,0,0],[1,1,0,0,0],[1,0,1,0,0],\n",
    "                       [1,0,1,1,0],[1,1,1,0,0],[1,1,0,1,0],[1,1,1,1,0],[1,0,0,1,0],[0,1,1,0,0],[0,1,1,1,0],[0,1,0,1,0],\n",
    "                       [0,0,0,0,1],[0,0,0,1,1],[0,0,1,0,1],[0,0,1,1,1],[0,1,0,0,1],[1,0,0,0,1],[1,1,0,0,1],[1,0,1,0,1],\n",
    "                       [1,0,1,1,1],[1,1,1,0,1],[1,1,0,1,1],[1,1,1,1,1],[1,0,0,1,1],[0,1,1,0,1],[0,1,1,1,1],[0,1,0,1,1]])\n",
    "\n",
    "expected_output=np.array([[0,0],[0,1],[1,0],[1,1],[0,1],[1,0],[1,1],[0,0],[0,1],[0,1],[1,0],[0,0],[1,1],[1,1],[1,0],[0,0],\n",
    "                          [1,1],[1,0],[0,1],[0,0],[1,0],[0,1],[0,0],[1,1],[1,0],[1,0],[0,1],[1,1],[0,0],[0,0],[0,1],[1,1]])\n",
    "\n",
    "\n",
    "\n",
    "input_size=5\n",
    "hidden_size=20\n",
    "output_size=2\n"
   ]
  },
  {
   "cell_type": "code",
   "execution_count": 27,
   "metadata": {},
   "outputs": [],
   "source": [
    "hidden_weight=np.random.uniform(low=-1,high=1,size=(input_size,hidden_size))\n",
    "output_weight=np.random.uniform(low=-1,high=1,size=(hidden_size,output_size))\n",
    "hidden_bias =np.random.uniform(low=-1,high=1,size=(1,hidden_size))\n",
    "output_bias = np.random.uniform(low=-1,high=1,size=(1,output_size))"
   ]
  },
  {
   "cell_type": "code",
   "execution_count": 28,
   "metadata": {},
   "outputs": [],
   "source": [
    "def sigmoid(z):\n",
    "    return 1/(1+np.exp(-z))\n",
    "def d_sigmoid(z):\n",
    "    return z*(1-z)"
   ]
  },
  {
   "cell_type": "code",
   "execution_count": 30,
   "metadata": {},
   "outputs": [
    {
     "name": "stdout",
     "output_type": "stream",
     "text": [
      "Output from neural network after 10,000 epochs: \n",
      "expected output is [0 0] and predicted output is [0.06280434 0.03877513]\n",
      "expected output is [0 1] and predicted output is [0.04159791 0.94735818]\n",
      "expected output is [1 0] and predicted output is [0.94286707 0.02678603]\n",
      "expected output is [1 1] and predicted output is [0.95361749 0.96903553]\n",
      "expected output is [0 1] and predicted output is [0.04289458 0.95241782]\n",
      "expected output is [1 0] and predicted output is [0.95253529 0.04111711]\n",
      "expected output is [1 1] and predicted output is [0.95608552 0.96558607]\n",
      "expected output is [0 0] and predicted output is [0.03878357 0.01739128]\n",
      "expected output is [0 1] and predicted output is [0.04320633 0.96018765]\n",
      "expected output is [0 1] and predicted output is [0.04246003 0.9542883 ]\n",
      "expected output is [1 0] and predicted output is [0.95404384 0.04743288]\n",
      "expected output is [0 0] and predicted output is [0.0522986  0.03967672]\n",
      "expected output is [1 1] and predicted output is [0.94754865 0.96092116]\n",
      "expected output is [1 1] and predicted output is [0.9471112  0.96358492]\n",
      "expected output is [1 0] and predicted output is [0.95656496 0.04644605]\n",
      "expected output is [0 0] and predicted output is [0.032109   0.02992032]\n",
      "expected output is [1 1] and predicted output is [0.93754842 0.95590748]\n",
      "expected output is [1 0] and predicted output is [0.95396379 0.03891053]\n",
      "expected output is [0 1] and predicted output is [0.04131796 0.9564903 ]\n",
      "expected output is [0 0] and predicted output is [0.05414084 0.03601132]\n",
      "expected output is [1 0] and predicted output is [0.95570755 0.04368611]\n",
      "expected output is [0 1] and predicted output is [0.04044314 0.9433396 ]\n",
      "expected output is [0 0] and predicted output is [0.04038474 0.02911088]\n",
      "expected output is [1 1] and predicted output is [0.97368447 0.96738885]\n",
      "expected output is [1 0] and predicted output is [0.96982769 0.05067281]\n",
      "expected output is [1 0] and predicted output is [0.96559883 0.04806612]\n",
      "expected output is [0 1] and predicted output is [0.04254844 0.97694255]\n",
      "expected output is [1 1] and predicted output is [0.95306003 0.96907284]\n",
      "expected output is [0 0] and predicted output is [0.04216648 0.03252734]\n",
      "expected output is [0 0] and predicted output is [0.05400512 0.04479867]\n",
      "expected output is [0 1] and predicted output is [0.06070872 0.96603717]\n"
     ]
    }
   ],
   "source": [
    "epochs=100000\n",
    "lr=0.001\n",
    "i=0\n",
    "for i in range (epochs):\n",
    "    #Forward Pass\n",
    "    hidden_layer=np.dot(input_matrix,hidden_weight)\n",
    "    hidden_layer=hidden_layer+hidden_bias\n",
    "    output_hidden=sigmoid(hidden_layer)\n",
    "    output_layer=np.dot(output_hidden,output_weight)\n",
    "    output_layer=output_layer+output_bias\n",
    "    predict_output=sigmoid(output_layer)\n",
    "    \n",
    "    #loss function\n",
    "    loss=(expected_output-predict_output)\n",
    "    \n",
    "    #BackPropagation Starts\n",
    "    d_predict_output = loss *d_sigmoid(predict_output)\n",
    "    \n",
    " \n",
    "    loss_hidden_layer = d_predict_output.dot(output_weight.T)\n",
    "    d_hidden_layer = loss_hidden_layer * d_sigmoid(output_hidden)\n",
    "    \n",
    "    #Updating Weights and Biases\n",
    "    \n",
    "    output_weight += output_hidden.T.dot(d_predict_output) * lr\n",
    "    output_bias += np.sum(d_predict_output,axis=0,keepdims=True) * lr\n",
    "    hidden_weight += input_matrix.T.dot(d_hidden_layer) * lr\n",
    "    hidden_bias += np.sum(d_hidden_layer,axis=0,keepdims=True) * lr\n",
    "print(\"Output from neural network after 10,000 epochs: \")    \n",
    "for j in range(31):\n",
    "    print(\"expected output is\",expected_output[j],\"and predicted output is\",predict_output[j])"
   ]
  },
  {
   "cell_type": "code",
   "execution_count": 2,
   "metadata": {},
   "outputs": [],
   "source": [
    "def predict(X,y):\n",
    "    hidden_layer=np.dot(X,hidden_weight)\n",
    "    hidden_layer=hidden_layer+hidden_bias\n",
    "    output_hidden=sigmoid(hidden_layer)\n",
    "    output_layer=np.dot(output_hidden,output_weight)\n",
    "    output_layer=output_layer+output_bias\n",
    "    predict_output=sigmoid(output_layer)\n",
    "    for i in range(X.shape[0]):\n",
    "        print(\"expected output is\",y[i],\"predicted output is\",predict_output[i]) \n",
    "    "
   ]
  },
  {
   "cell_type": "code",
   "execution_count": 39,
   "metadata": {},
   "outputs": [],
   "source": [
    "def input_fn():\n",
    "    X=input(\"enter a number between 0 and 3 both included\")\n",
    "    Y=input(\"enter a number between 0 and 3 both included\")\n",
    "    X_bin=np.unpackbits(np.uint8(X))[6:].reshape(2,1)\n",
    "    Y_bin=np.unpackbits(np.uint8(Y))[6:].reshape(2,1)\n",
    "    return X_bin,Y_bin\n",
    "\n",
    "one=np.ones((1,1))\n",
    "zero=np.zeros((1,1))\n",
    "\n",
    "def XNOR(X_bin,Y_bin):\n",
    "    input_=np.concatenate((X_bin,Y_bin,one)).reshape(1,5)\n",
    "    hidden_layer=np.dot(input_,hidden_weight)\n",
    "    hidden_layer=hidden_layer+hidden_bias\n",
    "    output_hidden=sigmoid(hidden_layer)\n",
    "    output_layer=np.dot(output_hidden,output_weight)\n",
    "    output_layer=output_layer+output_bias\n",
    "    predict_output=sigmoid(output_layer)\n",
    "    final_output=(predict_output>0.5).astype(int)\n",
    "    print(\"Operation performed is XNOR, Input array is\",input_,\"predicted output is\",predict_output,\"Final output is\",final_output)\n",
    "    \n",
    "def XOR(X_bin,Y_bin):\n",
    "    input_=np.concatenate((X_bin,Y_bin,zero)).reshape(1,5)\n",
    "    hidden_layer=np.dot(input_,hidden_weight)\n",
    "    hidden_layer=hidden_layer+hidden_bias\n",
    "    output_hidden=sigmoid(hidden_layer)\n",
    "    output_layer=np.dot(output_hidden,output_weight)\n",
    "    output_layer=output_layer+output_bias\n",
    "    predict_output=sigmoid(output_layer)\n",
    "    final_output=(predict_output>0.5).astype(int)\n",
    "    print(\"Operation performed is XOR, Input array is\",input_,\"predicted output is\",predict_output,\"Final output is\",final_output)\n",
    "     "
   ]
  },
  {
   "cell_type": "code",
   "execution_count": 41,
   "metadata": {},
   "outputs": [
    {
     "name": "stdout",
     "output_type": "stream",
     "text": [
      "enter a number between 0 and 3 both included2\n",
      "enter a number between 0 and 3 both included1\n",
      "For XOR operation enter (y) for XNOR enter (n)y\n",
      "Operation performed is XOR, Input array is [[1. 0. 0. 1. 0.]] predicted output is [[0.94754906 0.96092134]] Final output is [[1 1]]\n"
     ]
    }
   ],
   "source": [
    "input_1,input_2=input_fn()\n",
    "o=input(\"For XOR operation enter (y) for XNOR enter (n)\")\n",
    "if(o==\"y\"):\n",
    "    XOR(input_1,input_2)\n",
    "elif(o==\"n\"):\n",
    "    XNOR(input_1,input_2)\n",
    "    "
   ]
  },
  {
   "cell_type": "code",
   "execution_count": null,
   "metadata": {},
   "outputs": [],
   "source": []
  }
 ],
 "metadata": {
  "kernelspec": {
   "display_name": "Python 3",
   "language": "python",
   "name": "python3"
  },
  "language_info": {
   "codemirror_mode": {
    "name": "ipython",
    "version": 3
   },
   "file_extension": ".py",
   "mimetype": "text/x-python",
   "name": "python",
   "nbconvert_exporter": "python",
   "pygments_lexer": "ipython3",
   "version": "3.7.3"
  }
 },
 "nbformat": 4,
 "nbformat_minor": 2
}
